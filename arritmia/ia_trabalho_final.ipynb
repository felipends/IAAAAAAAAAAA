{
 "cells": [
  {
   "cell_type": "markdown",
   "metadata": {},
   "source": [
    "## Trabalho final da disciplina de introdução a IA\n",
    "\n",
    "**Autores: José Felipe e Yure Talis**\n",
    "\n",
    "### Motivação\n",
    "\n",
    "Estresse e ansiedade são problemas corriqueiros na sociedade atual, podendo ser gatilho de um quadro de arritmia cardíaca ou como agravente deste. \n",
    "\n",
    "Para este trabalho utilizamos uma base de dados contendo fragmentos de eletrocardiogramas (ECG), para a identificação da presença ou não da doença.\n",
    "\n",
    "A arritmia se caracteriza pela mudança brusca no ritmo cardíaco fazendo com que seja bombeando mais ou menos sengue do que o ideal, podendo  causar inicialmente cansaço, falta de ar, e em casos extremos, o óbto.\n",
    "\n",
    "Essas mudanças do ritmo cardíaco podem ser identificadas no exame de eletrocardiograma, principal fonte de informação desse estudo."
   ]
  },
  {
   "cell_type": "code",
   "execution_count": 1,
   "metadata": {},
   "outputs": [],
   "source": [
    "# imports para analíse númerica\n",
    "import numpy as np\n",
    "import pandas as pd\n",
    "# imports para analíse gráfica\n",
    "import seaborn as sns\n",
    "import matplotlib.pyplot as plt\n",
    "# import para machine learning\n",
    "from sklearn.model_selection import train_test_split\n",
    "from sklearn import svm, naive_bayes, metrics, preprocessing\n",
    "# imports para ignorar warnings\n",
    "import warnings\n",
    "warnings.filterwarnings('ignore')"
   ]
  },
  {
   "cell_type": "markdown",
   "metadata": {},
   "source": [
    "### A base\n",
    "\n",
    "A base de exames utilizada no teste pode ser encontrada em https://datahub.io/machine-learning/arrhythmia.\n",
    "\n",
    "Contém informações sobre os pacientes e os exames realizados nos mesmos."
   ]
  },
  {
   "cell_type": "code",
   "execution_count": 2,
   "metadata": {},
   "outputs": [
    {
     "data": {
      "text/html": [
       "<div>\n",
       "<style scoped>\n",
       "    .dataframe tbody tr th:only-of-type {\n",
       "        vertical-align: middle;\n",
       "    }\n",
       "\n",
       "    .dataframe tbody tr th {\n",
       "        vertical-align: top;\n",
       "    }\n",
       "\n",
       "    .dataframe thead th {\n",
       "        text-align: right;\n",
       "    }\n",
       "</style>\n",
       "<table border=\"1\" class=\"dataframe\">\n",
       "  <thead>\n",
       "    <tr style=\"text-align: right;\">\n",
       "      <th></th>\n",
       "      <th>age</th>\n",
       "      <th>sex</th>\n",
       "      <th>height</th>\n",
       "      <th>weight</th>\n",
       "      <th>QRSduration</th>\n",
       "      <th>PRinterval</th>\n",
       "      <th>Q-Tinterval</th>\n",
       "      <th>Tinterval</th>\n",
       "      <th>Pinterval</th>\n",
       "      <th>QRS</th>\n",
       "      <th>...</th>\n",
       "      <th>chV6_QwaveAmp</th>\n",
       "      <th>chV6_RwaveAmp</th>\n",
       "      <th>chV6_SwaveAmp</th>\n",
       "      <th>chV6_RPwaveAmp</th>\n",
       "      <th>chV6_SPwaveAmp</th>\n",
       "      <th>chV6_PwaveAmp</th>\n",
       "      <th>chV6_TwaveAmp</th>\n",
       "      <th>chV6_QRSA</th>\n",
       "      <th>chV6_QRSTA</th>\n",
       "      <th>class</th>\n",
       "    </tr>\n",
       "  </thead>\n",
       "  <tbody>\n",
       "    <tr>\n",
       "      <th>0</th>\n",
       "      <td>75</td>\n",
       "      <td>0</td>\n",
       "      <td>190</td>\n",
       "      <td>80</td>\n",
       "      <td>91</td>\n",
       "      <td>193</td>\n",
       "      <td>371</td>\n",
       "      <td>174</td>\n",
       "      <td>121</td>\n",
       "      <td>-16</td>\n",
       "      <td>...</td>\n",
       "      <td>0.0</td>\n",
       "      <td>9.0</td>\n",
       "      <td>-0.9</td>\n",
       "      <td>0.0</td>\n",
       "      <td>0.0</td>\n",
       "      <td>0.9</td>\n",
       "      <td>2.9</td>\n",
       "      <td>23.3</td>\n",
       "      <td>49.4</td>\n",
       "      <td>8</td>\n",
       "    </tr>\n",
       "    <tr>\n",
       "      <th>1</th>\n",
       "      <td>56</td>\n",
       "      <td>1</td>\n",
       "      <td>165</td>\n",
       "      <td>64</td>\n",
       "      <td>81</td>\n",
       "      <td>174</td>\n",
       "      <td>401</td>\n",
       "      <td>149</td>\n",
       "      <td>39</td>\n",
       "      <td>25</td>\n",
       "      <td>...</td>\n",
       "      <td>0.0</td>\n",
       "      <td>8.5</td>\n",
       "      <td>0.0</td>\n",
       "      <td>0.0</td>\n",
       "      <td>0.0</td>\n",
       "      <td>0.2</td>\n",
       "      <td>2.1</td>\n",
       "      <td>20.4</td>\n",
       "      <td>38.8</td>\n",
       "      <td>6</td>\n",
       "    </tr>\n",
       "    <tr>\n",
       "      <th>2</th>\n",
       "      <td>54</td>\n",
       "      <td>0</td>\n",
       "      <td>172</td>\n",
       "      <td>95</td>\n",
       "      <td>138</td>\n",
       "      <td>163</td>\n",
       "      <td>386</td>\n",
       "      <td>185</td>\n",
       "      <td>102</td>\n",
       "      <td>96</td>\n",
       "      <td>...</td>\n",
       "      <td>0.0</td>\n",
       "      <td>9.5</td>\n",
       "      <td>-2.4</td>\n",
       "      <td>0.0</td>\n",
       "      <td>0.0</td>\n",
       "      <td>0.3</td>\n",
       "      <td>3.4</td>\n",
       "      <td>12.3</td>\n",
       "      <td>49.0</td>\n",
       "      <td>10</td>\n",
       "    </tr>\n",
       "    <tr>\n",
       "      <th>3</th>\n",
       "      <td>55</td>\n",
       "      <td>0</td>\n",
       "      <td>175</td>\n",
       "      <td>94</td>\n",
       "      <td>100</td>\n",
       "      <td>202</td>\n",
       "      <td>380</td>\n",
       "      <td>179</td>\n",
       "      <td>143</td>\n",
       "      <td>28</td>\n",
       "      <td>...</td>\n",
       "      <td>0.0</td>\n",
       "      <td>12.2</td>\n",
       "      <td>-2.2</td>\n",
       "      <td>0.0</td>\n",
       "      <td>0.0</td>\n",
       "      <td>0.4</td>\n",
       "      <td>2.6</td>\n",
       "      <td>34.6</td>\n",
       "      <td>61.6</td>\n",
       "      <td>1</td>\n",
       "    </tr>\n",
       "    <tr>\n",
       "      <th>4</th>\n",
       "      <td>75</td>\n",
       "      <td>0</td>\n",
       "      <td>190</td>\n",
       "      <td>80</td>\n",
       "      <td>88</td>\n",
       "      <td>181</td>\n",
       "      <td>360</td>\n",
       "      <td>177</td>\n",
       "      <td>103</td>\n",
       "      <td>-16</td>\n",
       "      <td>...</td>\n",
       "      <td>0.0</td>\n",
       "      <td>13.1</td>\n",
       "      <td>-3.6</td>\n",
       "      <td>0.0</td>\n",
       "      <td>0.0</td>\n",
       "      <td>-0.1</td>\n",
       "      <td>3.9</td>\n",
       "      <td>25.4</td>\n",
       "      <td>62.8</td>\n",
       "      <td>7</td>\n",
       "    </tr>\n",
       "  </tbody>\n",
       "</table>\n",
       "<p>5 rows × 280 columns</p>\n",
       "</div>"
      ],
      "text/plain": [
       "   age  sex  height  weight  QRSduration  PRinterval  Q-Tinterval  Tinterval  \\\n",
       "0   75    0     190      80           91         193          371        174   \n",
       "1   56    1     165      64           81         174          401        149   \n",
       "2   54    0     172      95          138         163          386        185   \n",
       "3   55    0     175      94          100         202          380        179   \n",
       "4   75    0     190      80           88         181          360        177   \n",
       "\n",
       "   Pinterval  QRS  ...  chV6_QwaveAmp  chV6_RwaveAmp  chV6_SwaveAmp  \\\n",
       "0        121  -16  ...            0.0            9.0           -0.9   \n",
       "1         39   25  ...            0.0            8.5            0.0   \n",
       "2        102   96  ...            0.0            9.5           -2.4   \n",
       "3        143   28  ...            0.0           12.2           -2.2   \n",
       "4        103  -16  ...            0.0           13.1           -3.6   \n",
       "\n",
       "   chV6_RPwaveAmp  chV6_SPwaveAmp  chV6_PwaveAmp  chV6_TwaveAmp  chV6_QRSA  \\\n",
       "0             0.0             0.0            0.9            2.9       23.3   \n",
       "1             0.0             0.0            0.2            2.1       20.4   \n",
       "2             0.0             0.0            0.3            3.4       12.3   \n",
       "3             0.0             0.0            0.4            2.6       34.6   \n",
       "4             0.0             0.0           -0.1            3.9       25.4   \n",
       "\n",
       "   chV6_QRSTA  class  \n",
       "0        49.4      8  \n",
       "1        38.8      6  \n",
       "2        49.0     10  \n",
       "3        61.6      1  \n",
       "4        62.8      7  \n",
       "\n",
       "[5 rows x 280 columns]"
      ]
     },
     "execution_count": 2,
     "metadata": {},
     "output_type": "execute_result"
    }
   ],
   "source": [
    "train_df = pd.read_csv('arrhythmia_csv.csv')\n",
    "\n",
    "train_df.head()"
   ]
  },
  {
   "cell_type": "markdown",
   "metadata": {},
   "source": [
    "### Limpeza da base\n",
    "\n",
    "Removendo dados faltantes"
   ]
  },
  {
   "cell_type": "code",
   "execution_count": 3,
   "metadata": {
    "scrolled": false
   },
   "outputs": [
    {
     "name": "stdout",
     "output_type": "stream",
     "text": [
      "(452, 280)\n"
     ]
    },
    {
     "data": {
      "text/plain": [
       "J                             376\n",
       "P                              22\n",
       "T                               8\n",
       "heartrate                       1\n",
       "QRST                            1\n",
       "class                           0\n",
       "chV1_SPwave                     0\n",
       "chV1_intrinsicReflecttions      0\n",
       "chV1_RRwaveExists               0\n",
       "chV1_DD_RRwaveExists            0\n",
       "chV1_RPwaveExists               0\n",
       "chV1_Swave                      0\n",
       "chV1_DD_RPwaveExists            0\n",
       "chV1_RTwaveExists               0\n",
       "chV1_DD_RTwaveExists            0\n",
       "chV2_Qwave                      0\n",
       "chV2_Rwave                      0\n",
       "chV2_Swave                      0\n",
       "chV2_RPwave                     0\n",
       "chV2_SPwave                     0\n",
       "chV1_RPwave                     0\n",
       "chAVF_DD_RTwaveExists           0\n",
       "chV1_Rwave                      0\n",
       "chV1_Qwave                      0\n",
       "chV2_RRwaveExists               0\n",
       "chAVF_RTwaveExists              0\n",
       "chAVF_DD_RPwaveExists           0\n",
       "chAVF_RPwaveExists              0\n",
       "chAVF_DD_RRwaveExists           0\n",
       "chAVF_RRwaveExists              0\n",
       "                             ... \n",
       "chAVR_TwaveAmp                  0\n",
       "chAVR_QRSA                      0\n",
       "chAVR_QRSTA                     0\n",
       "chAVL_JJwaveAmp                 0\n",
       "chAVL_RwaveAmp                  0\n",
       "chDII_TwaveAmp                  0\n",
       "chAVL_SwaveAmp                  0\n",
       "chAVL_RPwaveAmp                 0\n",
       "chAVL_SPwaveAmp                 0\n",
       "chAVL_PwaveAmp                  0\n",
       "chAVL_TwaveAmp                  0\n",
       "chAVL_QRSA                      0\n",
       "chAVR_RPwaveAmp                 0\n",
       "chAVR_SwaveAmp                  0\n",
       "chAVR_RwaveAmp                  0\n",
       "chAVR_QwaveAmp                  0\n",
       "chAVR_JJwaveAmp                 0\n",
       "chDIII_QRSTA                    0\n",
       "chDIII_QRSA                     0\n",
       "chDIII_TwaveAmp                 0\n",
       "chDIII_PwaveAmp                 0\n",
       "chDIII_SPwaveAmp                0\n",
       "chDIII_RPwaveAmp                0\n",
       "chDIII_SwaveAmp                 0\n",
       "chDIII_RwaveAmp                 0\n",
       "chDIII_QwaveAmp                 0\n",
       "chDIII_JJwaveAmp                0\n",
       "chDII_QRSTA                     0\n",
       "chDII_QRSA                      0\n",
       "age                             0\n",
       "Length: 280, dtype: int64"
      ]
     },
     "execution_count": 3,
     "metadata": {},
     "output_type": "execute_result"
    }
   ],
   "source": [
    "print(train_df.shape)\n",
    "train_df.isnull().sum().sort_values(ascending=False)"
   ]
  },
  {
   "cell_type": "markdown",
   "metadata": {},
   "source": [
    "As colunas 'J', 'P' e 'T' além de apresentarem o maior número de dados faltantes, são informações identificadoras, e não agregam ao teste, por isso serão descartadas. Os dados faltantes nas demais colunas somam um montante ínfimo em relação ao total, podendo ser feita a remoção destas linhas com células defeituosas. "
   ]
  },
  {
   "cell_type": "code",
   "execution_count": 4,
   "metadata": {},
   "outputs": [
    {
     "data": {
      "text/plain": [
       "class                          0\n",
       "chV1_DD_RPwaveExists           0\n",
       "chV1_RPwave                    0\n",
       "chV1_SPwave                    0\n",
       "chV1_intrinsicReflecttions     0\n",
       "chV1_RRwaveExists              0\n",
       "chV1_DD_RRwaveExists           0\n",
       "chV1_RPwaveExists              0\n",
       "chV1_RTwaveExists              0\n",
       "chV2_RRwaveExists              0\n",
       "chV1_DD_RTwaveExists           0\n",
       "chV2_Qwave                     0\n",
       "chV2_Rwave                     0\n",
       "chV2_Swave                     0\n",
       "chV2_RPwave                    0\n",
       "chV2_SPwave                    0\n",
       "chV1_Swave                     0\n",
       "chV1_Rwave                     0\n",
       "chV1_Qwave                     0\n",
       "chAVF_DD_RTwaveExists          0\n",
       "chAVF_RTwaveExists             0\n",
       "chAVF_DD_RPwaveExists          0\n",
       "chAVF_RPwaveExists             0\n",
       "chAVF_DD_RRwaveExists          0\n",
       "chAVF_RRwaveExists             0\n",
       "chAVF_intrinsicReflecttions    0\n",
       "chAVF_SPwave                   0\n",
       "chAVF_RPwave                   0\n",
       "chAVF_Swave                    0\n",
       "chAVF_Rwave                    0\n",
       "                              ..\n",
       "chAVL_TwaveAmp                 0\n",
       "chAVL_PwaveAmp                 0\n",
       "chAVL_SPwaveAmp                0\n",
       "chAVL_RPwaveAmp                0\n",
       "chAVL_SwaveAmp                 0\n",
       "chAVL_RwaveAmp                 0\n",
       "chAVL_QwaveAmp                 0\n",
       "chAVL_JJwaveAmp                0\n",
       "chAVR_QRSTA                    0\n",
       "chAVR_QRSA                     0\n",
       "chAVR_TwaveAmp                 0\n",
       "chAVR_PwaveAmp                 0\n",
       "chAVR_SPwaveAmp                0\n",
       "chAVR_SwaveAmp                 0\n",
       "chDII_QRSA                     0\n",
       "chAVR_RwaveAmp                 0\n",
       "chAVR_QwaveAmp                 0\n",
       "chAVR_JJwaveAmp                0\n",
       "chDIII_QRSTA                   0\n",
       "chDIII_QRSA                    0\n",
       "chDIII_TwaveAmp                0\n",
       "chDIII_PwaveAmp                0\n",
       "chDIII_SPwaveAmp               0\n",
       "chDIII_RPwaveAmp               0\n",
       "chDIII_SwaveAmp                0\n",
       "chDIII_RwaveAmp                0\n",
       "chDIII_QwaveAmp                0\n",
       "chDIII_JJwaveAmp               0\n",
       "chDII_QRSTA                    0\n",
       "age                            0\n",
       "Length: 277, dtype: int64"
      ]
     },
     "execution_count": 4,
     "metadata": {},
     "output_type": "execute_result"
    }
   ],
   "source": [
    "drop_columns = ['J', 'P', 'T']\n",
    "train_df.drop(drop_columns, axis=1, inplace=True)\n",
    "\n",
    "train_df.dropna(subset=['heartrate'], axis=0, inplace=True)\n",
    "train_df.dropna(subset=['QRST'], axis=0, inplace=True)\n",
    "\n",
    "train_df.isnull().sum().sort_values(ascending=False)"
   ]
  },
  {
   "cell_type": "markdown",
   "metadata": {},
   "source": [
    "Feita a limpeza em relação aos dados defeituosos. Poderiam ser adicionados valores fictícios a estas células vazias, porém essa decisão poderia afetar diretamente o resultado final.\n",
    "\n",
    "### Checando correlação das classes com a classe alvo\n",
    "\n",
    "Primeiro checando com o resultado em seu estado original (de 1 a 16). Nesse caso das 276 classes apenas 6 possuem correlação maior que 0.2 com o resultado final do exame."
   ]
  },
  {
   "cell_type": "code",
   "execution_count": 5,
   "metadata": {},
   "outputs": [
    {
     "data": {
      "text/plain": [
       "<matplotlib.axes._subplots.AxesSubplot at 0x7f8027718ef0>"
      ]
     },
     "execution_count": 5,
     "metadata": {},
     "output_type": "execute_result"
    },
    {
     "data": {
      "image/png": "[encoded data removed]",
      "text/plain": [
       "<Figure size 720x648 with 2 Axes>"
      ]
     },
     "metadata": {
      "needs_background": "light"
     },
     "output_type": "display_data"
    }
   ],
   "source": [
    "#correlação com dados crus\n",
    "\n",
    "cols = train_df.corr(method='pearson').index[abs(train_df.corr()[\"class\"])>0.2]\n",
    "corr_matrix = np.corrcoef(train_df[cols].values.T)\n",
    "\n",
    "f, ax = plt.subplots(figsize=(10, 9))\n",
    "sns.heatmap(corr_matrix, square=True, yticklabels=cols.values, xticklabels=cols.values)"
   ]
  },
  {
   "cell_type": "markdown",
   "metadata": {},
   "source": [
    "Dado que 1 sinaliza a ausência da doença no paciente e de 2 adiante seria o grau de arritmia daquele paciente na classe de saída, foi decidido atribuir valores binários para essa classe, sendo 0 a ausência de arritmia e 1 a presença. "
   ]
  },
  {
   "cell_type": "code",
   "execution_count": 6,
   "metadata": {},
   "outputs": [
    {
     "data": {
      "text/plain": [
       "count    450.000000\n",
       "mean       0.457778\n",
       "std        0.498769\n",
       "min        0.000000\n",
       "25%        0.000000\n",
       "50%        0.000000\n",
       "75%        1.000000\n",
       "max        1.000000\n",
       "Name: class, dtype: float64"
      ]
     },
     "execution_count": 6,
     "metadata": {},
     "output_type": "execute_result"
    }
   ],
   "source": [
    "# transformando o valor de saída em binário\n",
    "\n",
    "def class_to_b(x):\n",
    "    if x == 1:\n",
    "        return 0\n",
    "    else:\n",
    "        return 1\n",
    "\n",
    "train_df['class'] = train_df['class'].apply(class_to_b)\n",
    "\n",
    "train_df['class'].describe()"
   ]
  },
  {
   "cell_type": "markdown",
   "metadata": {},
   "source": [
    "Obtendo agora a correlação com saída binarizada."
   ]
  },
  {
   "cell_type": "code",
   "execution_count": 7,
   "metadata": {},
   "outputs": [
    {
     "data": {
      "text/plain": [
       "<matplotlib.axes._subplots.AxesSubplot at 0x7f8024132908>"
      ]
     },
     "execution_count": 7,
     "metadata": {},
     "output_type": "execute_result"
    },
    {
     "data": {
      "image/png": "[encoded data removed]",
      "text/plain": [
       "<Figure size 720x648 with 2 Axes>"
      ]
     },
     "metadata": {
      "needs_background": "light"
     },
     "output_type": "display_data"
    }
   ],
   "source": [
    "# correlação com dados da classe alvo binarizados\n",
    "\n",
    "cols_bestcorr = train_df.corr(method='pearson').index[abs(train_df.corr()[\"class\"])>0.2]\n",
    "corr_matrix = np.corrcoef(train_df[cols_bestcorr].values.T)\n",
    "\n",
    "f, ax = plt.subplots(figsize=(10, 9))\n",
    "sns.heatmap(corr_matrix, square=True, yticklabels=cols_bestcorr.values, xticklabels=cols_bestcorr.values)"
   ]
  },
  {
   "cell_type": "markdown",
   "metadata": {},
   "source": [
    "### Checando o balanceamento das classes"
   ]
  },
  {
   "cell_type": "code",
   "execution_count": 8,
   "metadata": {},
   "outputs": [
    {
     "data": {
      "text/plain": [
       "<matplotlib.axes._subplots.AxesSubplot at 0x7f80242420f0>"
      ]
     },
     "execution_count": 8,
     "metadata": {},
     "output_type": "execute_result"
    },
    {
     "data": {
      "image/png": "[encoded data removed]",
      "text/plain": [
       "<Figure size 432x288 with 1 Axes>"
      ]
     },
     "metadata": {
      "needs_background": "light"
     },
     "output_type": "display_data"
    }
   ],
   "source": [
    "train_df['class'].plot.hist()"
   ]
  },
  {
   "cell_type": "markdown",
   "metadata": {},
   "source": [
    "A classe do resultado tem valores próximos para a frequência de seus possíveis valores de saída."
   ]
  },
  {
   "cell_type": "code",
   "execution_count": 9,
   "metadata": {},
   "outputs": [
    {
     "data": {
      "text/plain": [
       "<matplotlib.axes._subplots.AxesSubplot at 0x7f80241868d0>"
      ]
     },
     "execution_count": 9,
     "metadata": {},
     "output_type": "execute_result"
    },
    {
     "data": {
      "image/png": "[encoded data removed]",
      "text/plain": [
       "<Figure size 432x288 with 1 Axes>"
      ]
     },
     "metadata": {
      "needs_background": "light"
     },
     "output_type": "display_data"
    }
   ],
   "source": [
    "train_df['sex'].plot.hist()"
   ]
  },
  {
   "cell_type": "markdown",
   "metadata": {},
   "source": [
    "De novo o número de homens e mulheres presentes na base são parecidos."
   ]
  },
  {
   "cell_type": "code",
   "execution_count": 10,
   "metadata": {},
   "outputs": [
    {
     "data": {
      "text/plain": [
       "<matplotlib.axes._subplots.AxesSubplot at 0x7f802409e2e8>"
      ]
     },
     "execution_count": 10,
     "metadata": {},
     "output_type": "execute_result"
    },
    {
     "data": {
      "image/png": "[encoded data removed]",
      "text/plain": [
       "<Figure size 432x288 with 1 Axes>"
      ]
     },
     "metadata": {
      "needs_background": "light"
     },
     "output_type": "display_data"
    }
   ],
   "source": [
    "train_df['age'].plot.hist()"
   ]
  },
  {
   "cell_type": "markdown",
   "metadata": {},
   "source": [
    "Pacientes com idades entre 30 e 60 anos são mais presentes na base, representando quase metade, os demais valores valores para idade apresentam menor frequência.\n",
    "\n",
    "Os demais dados são valores contínuos e não é interessante checar seu balanceamento dado que os dados representam uma série temporal e é natural que seus valores variem no tempo.\n",
    "\n",
    "### Divisão entre treino e teste\n",
    "\n",
    "A base de dados foi dividida em 75% para treino e 25% teste de forma aleatória."
   ]
  },
  {
   "cell_type": "code",
   "execution_count": 11,
   "metadata": {},
   "outputs": [],
   "source": [
    "train_target = ['class']\n",
    "train_data = []\n",
    "\n",
    "for col in cols_bestcorr:\n",
    "    if col != 'class':\n",
    "        train_data.append(col)\n",
    "\n",
    "X_train, X_test, y_train, y_test = train_test_split(train_df[train_data], train_df[train_target], test_size=0.25, random_state=0)"
   ]
  },
  {
   "cell_type": "markdown",
   "metadata": {},
   "source": [
    "### Predição da classificação do paciente\n",
    "\n",
    "Para realizar a classificação foram utilizados dois modelos, um SVM e um Naive Bayes.\n",
    "\n",
    "Primeiro foi feito o teste levando em conta apenas as classes com melhor correlação com a classe de saída e esse foi o resultado obtido.\n",
    "\n",
    "#### SVM"
   ]
  },
  {
   "cell_type": "code",
   "execution_count": 12,
   "metadata": {
    "scrolled": true
   },
   "outputs": [
    {
     "name": "stdout",
     "output_type": "stream",
     "text": [
      "accuracy: 68.14 %\n",
      "confusion matrix:\n",
      " [[47 20]\n",
      " [16 30]]\n",
      "f1 score: 0.63\n",
      "sensibility score: 0.6\n",
      "specificity score: 0.65\n"
     ]
    }
   ],
   "source": [
    "SVM_classifier = svm.SVC(kernel='poly', degree=3, C=50).fit(X_train, y_train)\n",
    "\n",
    "y_predict_svm = SVM_classifier.predict(X_test)\n",
    "\n",
    "print(\"accuracy:\", round(SVM_classifier.score(X_test, y_test)*100, 2),'%')\n",
    "\n",
    "cm_svm = metrics.confusion_matrix(y_test, y_predict_svm)\n",
    "print(\"confusion matrix:\\n\", cm_svm)\n",
    "\n",
    "print(\"f1 score:\", round(metrics.f1_score(y_test, y_predict_svm), 2))\n",
    "print(\"sensibility score:\", round(metrics.precision_score(y_test, y_predict_svm), 2))\n",
    "print(\"specificity score:\", round(metrics.recall_score(y_test, y_predict_svm), 2))"
   ]
  },
  {
   "cell_type": "markdown",
   "metadata": {},
   "source": [
    "#### Naive Bayes"
   ]
  },
  {
   "cell_type": "code",
   "execution_count": 13,
   "metadata": {},
   "outputs": [
    {
     "name": "stdout",
     "output_type": "stream",
     "text": [
      "accuracy: 76.99 %\n",
      "confusion matrix:\n",
      " [[63  4]\n",
      " [22 24]]\n",
      "f1 score: 0.65\n",
      "sensibility score: 0.86\n",
      "specificity score: 0.52\n"
     ]
    }
   ],
   "source": [
    "NB_classifier = naive_bayes.GaussianNB()\n",
    "NB_classifier.fit(X_train, y_train)\n",
    "\n",
    "y_predict_nb = NB_classifier.predict(X_test)\n",
    "\n",
    "print(\"accuracy:\", round(NB_classifier.score(X_test, y_test)*100,2),'%')\n",
    "\n",
    "cm_nb = metrics.confusion_matrix(y_test, y_predict_nb)\n",
    "print(\"confusion matrix:\\n\", cm_nb)\n",
    "\n",
    "print(\"f1 score:\", round(metrics.f1_score(y_test, y_predict_nb), 2))\n",
    "print(\"sensibility score:\", round(metrics.precision_score(y_test, y_predict_nb), 2))\n",
    "print(\"specificity score:\", round(metrics.recall_score(y_test, y_predict_nb), 2))"
   ]
  },
  {
   "cell_type": "markdown",
   "metadata": {},
   "source": [
    "### Aplicando os mesmos algoritmos agora considerando todas as colunas da base.\n",
    "\n",
    "#### SVM"
   ]
  },
  {
   "cell_type": "code",
   "execution_count": 14,
   "metadata": {},
   "outputs": [
    {
     "name": "stdout",
     "output_type": "stream",
     "text": [
      "accuracy: 71.68 %\n",
      "confusion matrix:\n",
      " [[49 18]\n",
      " [14 32]]\n",
      "f1 score: 0.67\n",
      "sensibility score: 0.64\n",
      "specificity score: 0.7\n"
     ]
    }
   ],
   "source": [
    "train_target = ['class']\n",
    "train_data = []\n",
    "\n",
    "for col in train_df.columns:\n",
    "    if col != 'class':\n",
    "        train_data.append(col)\n",
    "\n",
    "X_train2, X_test2, y_train2, y_test2 = train_test_split(train_df[train_data], train_df[train_target], test_size=0.25, random_state=0)\n",
    "\n",
    "SVM_classifier = svm.SVC(kernel='poly', degree=3, C=50).fit(X_train2, y_train2)\n",
    "\n",
    "y_predict_svm2 = SVM_classifier.predict(X_test2)\n",
    "\n",
    "print(\"accuracy:\", round(SVM_classifier.score(X_test2, y_test2)*100, 2),'%')\n",
    "\n",
    "cm_svm2 = metrics.confusion_matrix(y_test2, y_predict_svm2)\n",
    "print(\"confusion matrix:\\n\", cm_svm2)\n",
    "\n",
    "print(\"f1 score:\", round(metrics.f1_score(y_test2, y_predict_svm2), 2))\n",
    "print(\"sensibility score:\", round(metrics.precision_score(y_test2, y_predict_svm2), 2))\n",
    "print(\"specificity score:\", round(metrics.recall_score(y_test2, y_predict_svm2), 2))"
   ]
  },
  {
   "cell_type": "markdown",
   "metadata": {},
   "source": [
    "#### Naive Bayes"
   ]
  },
  {
   "cell_type": "code",
   "execution_count": 15,
   "metadata": {},
   "outputs": [
    {
     "name": "stdout",
     "output_type": "stream",
     "text": [
      "accuracy: 70.8 %\n",
      "confusion matrix:\n",
      " [[64  3]\n",
      " [30 16]]\n",
      "f1 score: 0.49\n",
      "sensibility score: 0.84\n",
      "specificity score: 0.35\n"
     ]
    }
   ],
   "source": [
    "NB_classifier = naive_bayes.GaussianNB()\n",
    "NB_classifier.fit(X_train2, y_train2)\n",
    "\n",
    "y_predict_nb2 = NB_classifier.predict(X_test2)\n",
    "\n",
    "print(\"accuracy:\", round(NB_classifier.score(X_test2, y_test2)*100,2),'%')\n",
    "\n",
    "cm_nb2 = metrics.confusion_matrix(y_test2, y_predict_nb2)\n",
    "print(\"confusion matrix:\\n\", cm_nb2)\n",
    "\n",
    "print(\"f1 score:\", round(metrics.f1_score(y_test2, y_predict_nb2), 2))\n",
    "print(\"sensibility score:\", round(metrics.precision_score(y_test2, y_predict_nb2), 2))\n",
    "print(\"specificity score:\", round(metrics.recall_score(y_test2, y_predict_nb2), 2))"
   ]
  },
  {
   "cell_type": "markdown",
   "metadata": {},
   "source": [
    "### Conclusão dos testes\n",
    "\n",
    "Ao trabalhar com modelos de classificação nem sempre a correlação entre atributos pode significar benefício para o teste, as vezes o contrário pode acontecer, como pudemos notar no caso da SVM, já para o Naive Bayes Gaussiano, utilizar classes com maior correlação com a saída melhorou os valores de suas métricas."
   ]
  }
 ],
 "metadata": {
  "kernelspec": {
   "display_name": "Python 3",
   "language": "python",
   "name": "python3"
  },
  "language_info": {
   "codemirror_mode": {
    "name": "ipython",
    "version": 3
   },
   "file_extension": ".py",
   "mimetype": "text/x-python",
   "name": "python",
   "nbconvert_exporter": "python",
   "pygments_lexer": "ipython3",
   "version": "3.7.3"
  }
 },
 "nbformat": 4,
 "nbformat_minor": 2
}
